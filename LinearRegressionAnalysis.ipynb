{
 "cells": [
  {
   "cell_type": "markdown",
   "metadata": {},
   "source": [
    "![image](https://github.com/anamariapego/Data-Science/assets/57241391/24cdaed4-f219-4f8a-8f67-380b6d7b082e)"
   ]
  },
  {
   "cell_type": "markdown",
   "metadata": {},
   "source": [
    "<h1 style=\"text-align: center;\">Regressão Linear</h1>"
   ]
  },
  {
   "cell_type": "markdown",
   "metadata": {
    "id": "lECC1grFKX2X"
   },
   "source": [
    "O objetivo desse notebook é mostrar um exemplo prático de regressão linear simples e múltipla usando um datatset da plataforma Kaggle"
   ]
  },
  {
   "cell_type": "markdown",
   "metadata": {
    "id": "ClbIEy44KX2X"
   },
   "source": [
    "<font size=\"5\"><a id=\"sumario\"><bold>Summary</bold></a></font>\n",
    "***\n",
    ">1. [Imports das bibliotecas](#ses1)\n",
    ">2. [Carregando os dados](#ses2)\n",
    ">3. [Organização e limpeza dos dados](#ses3)\n",
    ">4. [Análise exploratória](#ses4)\n",
    ">5. [Codificação dos dados](#ses5)\n",
    ">6. [Modelo - Regressão Linear Simples](#ses6)\n",
    ">7. [Modelo - Regressão Linear Múltipla](#ses7)"
   ]
  },
  {
   "cell_type": "markdown",
   "metadata": {
    "id": "YFXDzUJNKX2Y"
   },
   "source": [
    "<h1 style=\"text-align:center;\" ><a id=\"ses1\">Imports das bibliotecas</a></h1>\n",
    "\n",
    "[VOLTAR](#sumario)"
   ]
  },
  {
   "cell_type": "code",
   "execution_count": 1,
   "metadata": {},
   "outputs": [],
   "source": [
    "# Bibliotecas padrão\n",
    "import warnings\n",
    "import os\n",
    "\n",
    "# Carregamento e transformação de dados\n",
    "import pandas as pd\n",
    "\n",
    "# Visualização de dados\n",
    "import seaborn as sns\n",
    "import matplotlib.pyplot as plt\n",
    "\n",
    "# Encoding\n",
    "from sklearn.preprocessing import LabelEncoder\n",
    "from sklearn.preprocessing import OrdinalEncoder\n",
    "\n",
    "# Modelo pré-treinado\n",
    "import statsmodels.api as sm"
   ]
  },
  {
   "cell_type": "code",
   "execution_count": 4,
   "metadata": {},
   "outputs": [
    {
     "name": "stdout",
     "output_type": "stream",
     "text": [
      "Versão da Linguagem Python Usada Neste Jupyter Notebook: 3.10.10\n",
      "\n",
      "matplotlib : 3.8.3\n",
      "statsmodels: 0.14.0\n",
      "pandas     : 1.5.3\n",
      "seaborn    : 0.13.0\n",
      "\n"
     ]
    }
   ],
   "source": [
    "# Versão da Linguagem Python\n",
    "from platform import python_version\n",
    "print('Versão da Linguagem Python Usada Neste Jupyter Notebook:', python_version())\n",
    "print(\"\")\n",
    "\n",
    "# Versões de pacotes utilizados \n",
    "%reload_ext watermark\n",
    "%watermark -a \"\" --iversions"
   ]
  },
  {
   "cell_type": "code",
   "execution_count": 5,
   "metadata": {},
   "outputs": [],
   "source": [
    "# Para ignorar mensagens de alertas \n",
    "warnings.filterwarnings('ignore')\n",
    "\n",
    "%config Completer.use_jedi = False\n",
    "\n",
    "# Visualizar todas as colunas do dataset\n",
    "pd.set_option('display.max_columns', None)"
   ]
  },
  {
   "cell_type": "code",
   "execution_count": 4,
   "metadata": {},
   "outputs": [],
   "source": [
    "# Defina uma função para destacar uma linha específica\n",
    "def specific_row(s, indices):\n",
    "    if s.name in indices:\n",
    "        return ['background-color: #c0c0c0'] * len(s)\n",
    "    else:\n",
    "        return [''] * len(s)"
   ]
  },
  {
   "cell_type": "markdown",
   "metadata": {},
   "source": [
    "<h1 style=\"text-align:center;\" ><a id=\"ses2\">Carregando os dados</a></h1>\n",
    "\n",
    "[VOLTAR](#sumario)\n",
    "\n",
    "O conjunto de dados foram extraídos do [Kaggle](https://www.kaggle.com/datasets/rkiattisak/salaly-prediction-for-beginer), esse conjunto contém informações sobre os salários dos funcionários de uma empresa. Cada linha representa um funcionário diferente e as colunas incluem informações como idade, sexo, nível educacional, cargo, anos de experiência e salário."
   ]
  },
  {
   "cell_type": "code",
   "execution_count": 40,
   "metadata": {},
   "outputs": [],
   "source": [
    "os.chdir('C:/Projetos/Data_Science/Dados/')\n",
    "\n",
    "salary = pd.read_csv('SalaryData.csv')"
   ]
  },
  {
   "cell_type": "code",
   "execution_count": 41,
   "metadata": {},
   "outputs": [
    {
     "data": {
      "text/html": [
       "<div>\n",
       "<style scoped>\n",
       "    .dataframe tbody tr th:only-of-type {\n",
       "        vertical-align: middle;\n",
       "    }\n",
       "\n",
       "    .dataframe tbody tr th {\n",
       "        vertical-align: top;\n",
       "    }\n",
       "\n",
       "    .dataframe thead th {\n",
       "        text-align: right;\n",
       "    }\n",
       "</style>\n",
       "<table border=\"1\" class=\"dataframe\">\n",
       "  <thead>\n",
       "    <tr style=\"text-align: right;\">\n",
       "      <th></th>\n",
       "      <th>Age</th>\n",
       "      <th>Gender</th>\n",
       "      <th>Education Level</th>\n",
       "      <th>Job Title</th>\n",
       "      <th>Years of Experience</th>\n",
       "      <th>Salary</th>\n",
       "    </tr>\n",
       "  </thead>\n",
       "  <tbody>\n",
       "    <tr>\n",
       "      <th>0</th>\n",
       "      <td>32.0</td>\n",
       "      <td>Male</td>\n",
       "      <td>Bachelor's</td>\n",
       "      <td>Software Engineer</td>\n",
       "      <td>5.0</td>\n",
       "      <td>90000.0</td>\n",
       "    </tr>\n",
       "    <tr>\n",
       "      <th>1</th>\n",
       "      <td>28.0</td>\n",
       "      <td>Female</td>\n",
       "      <td>Master's</td>\n",
       "      <td>Data Analyst</td>\n",
       "      <td>3.0</td>\n",
       "      <td>65000.0</td>\n",
       "    </tr>\n",
       "    <tr>\n",
       "      <th>2</th>\n",
       "      <td>45.0</td>\n",
       "      <td>Male</td>\n",
       "      <td>PhD</td>\n",
       "      <td>Senior Manager</td>\n",
       "      <td>15.0</td>\n",
       "      <td>150000.0</td>\n",
       "    </tr>\n",
       "    <tr>\n",
       "      <th>3</th>\n",
       "      <td>36.0</td>\n",
       "      <td>Female</td>\n",
       "      <td>Bachelor's</td>\n",
       "      <td>Sales Associate</td>\n",
       "      <td>7.0</td>\n",
       "      <td>60000.0</td>\n",
       "    </tr>\n",
       "    <tr>\n",
       "      <th>4</th>\n",
       "      <td>52.0</td>\n",
       "      <td>Male</td>\n",
       "      <td>Master's</td>\n",
       "      <td>Director</td>\n",
       "      <td>20.0</td>\n",
       "      <td>200000.0</td>\n",
       "    </tr>\n",
       "  </tbody>\n",
       "</table>\n",
       "</div>"
      ],
      "text/plain": [
       "    Age  Gender Education Level          Job Title  Years of Experience  \\\n",
       "0  32.0    Male      Bachelor's  Software Engineer                  5.0   \n",
       "1  28.0  Female        Master's       Data Analyst                  3.0   \n",
       "2  45.0    Male             PhD     Senior Manager                 15.0   \n",
       "3  36.0  Female      Bachelor's    Sales Associate                  7.0   \n",
       "4  52.0    Male        Master's           Director                 20.0   \n",
       "\n",
       "     Salary  \n",
       "0   90000.0  \n",
       "1   65000.0  \n",
       "2  150000.0  \n",
       "3   60000.0  \n",
       "4  200000.0  "
      ]
     },
     "execution_count": 41,
     "metadata": {},
     "output_type": "execute_result"
    }
   ],
   "source": [
    "# Visualizando as primeiras linhas \n",
    "salary.head()"
   ]
  },
  {
   "cell_type": "markdown",
   "metadata": {},
   "source": [
    "<h1 style=\"text-align:center;\" ><a id=\"ses3\">Organização e Limpeza dos Dados</a></h1>\n",
    "\n",
    "[VOLTAR](#sumario)\n",
    "\n",
    "\n",
    "O objetivo dessa etapa não é fazer grandes transformações porque não é o foco aqui, será feito algumas mofificação apenas para que seja viável continuar a análise."
   ]
  },
  {
   "cell_type": "code",
   "execution_count": 43,
   "metadata": {},
   "outputs": [
    {
     "name": "stdout",
     "output_type": "stream",
     "text": [
      "\n",
      "Conjunto de dados: 375 linhas e 6 colunas.\n"
     ]
    }
   ],
   "source": [
    "# Dimensão dos dados\n",
    "print(f'''\n",
    "Conjunto de dados: {salary.shape[0]} linhas e {salary.shape[1]} colunas.''')"
   ]
  },
  {
   "cell_type": "code",
   "execution_count": 44,
   "metadata": {},
   "outputs": [
    {
     "data": {
      "text/plain": [
       "Age                    float64\n",
       "Gender                  object\n",
       "Education Level         object\n",
       "Job Title               object\n",
       "Years of Experience    float64\n",
       "Salary                 float64\n",
       "dtype: object"
      ]
     },
     "execution_count": 44,
     "metadata": {},
     "output_type": "execute_result"
    }
   ],
   "source": [
    "# Tipos dos dados\n",
    "salary.dtypes"
   ]
  },
  {
   "cell_type": "code",
   "execution_count": 45,
   "metadata": {},
   "outputs": [
    {
     "data": {
      "text/html": [
       "<div>\n",
       "<style scoped>\n",
       "    .dataframe tbody tr th:only-of-type {\n",
       "        vertical-align: middle;\n",
       "    }\n",
       "\n",
       "    .dataframe tbody tr th {\n",
       "        vertical-align: top;\n",
       "    }\n",
       "\n",
       "    .dataframe thead th {\n",
       "        text-align: right;\n",
       "    }\n",
       "</style>\n",
       "<table border=\"1\" class=\"dataframe\">\n",
       "  <thead>\n",
       "    <tr style=\"text-align: right;\">\n",
       "      <th></th>\n",
       "      <th>Age</th>\n",
       "      <th>Gender</th>\n",
       "      <th>Education Level</th>\n",
       "      <th>Job Title</th>\n",
       "      <th>Years of Experience</th>\n",
       "      <th>Salary</th>\n",
       "    </tr>\n",
       "  </thead>\n",
       "  <tbody>\n",
       "    <tr>\n",
       "      <th>172</th>\n",
       "      <td>NaN</td>\n",
       "      <td>NaN</td>\n",
       "      <td>NaN</td>\n",
       "      <td>NaN</td>\n",
       "      <td>NaN</td>\n",
       "      <td>NaN</td>\n",
       "    </tr>\n",
       "    <tr>\n",
       "      <th>260</th>\n",
       "      <td>NaN</td>\n",
       "      <td>NaN</td>\n",
       "      <td>NaN</td>\n",
       "      <td>NaN</td>\n",
       "      <td>NaN</td>\n",
       "      <td>NaN</td>\n",
       "    </tr>\n",
       "  </tbody>\n",
       "</table>\n",
       "</div>"
      ],
      "text/plain": [
       "     Age Gender Education Level Job Title  Years of Experience  Salary\n",
       "172  NaN    NaN             NaN       NaN                  NaN     NaN\n",
       "260  NaN    NaN             NaN       NaN                  NaN     NaN"
      ]
     },
     "execution_count": 45,
     "metadata": {},
     "output_type": "execute_result"
    }
   ],
   "source": [
    "# Verificando os valores missing\n",
    "salary[salary.isnull().any(axis=1)]"
   ]
  },
  {
   "cell_type": "code",
   "execution_count": 46,
   "metadata": {},
   "outputs": [],
   "source": [
    "# Removendo as linhas nulas\n",
    "salary = salary.dropna()"
   ]
  },
  {
   "cell_type": "code",
   "execution_count": 47,
   "metadata": {},
   "outputs": [],
   "source": [
    "# Limpando os nomes das colunas\n",
    "salary.columns = [col.lower().replace(' ', '_').strip() for col in salary.columns]"
   ]
  },
  {
   "cell_type": "markdown",
   "metadata": {},
   "source": [
    "<h1 style=\"text-align:center;\" ><a id=\"ses4\">Análise Exploratória dos Dados</a></h1>\n",
    "\n",
    "[VOLTAR](#sumario)"
   ]
  },
  {
   "cell_type": "code",
   "execution_count": 48,
   "metadata": {},
   "outputs": [
    {
     "data": {
      "text/html": [
       "<div>\n",
       "<style scoped>\n",
       "    .dataframe tbody tr th:only-of-type {\n",
       "        vertical-align: middle;\n",
       "    }\n",
       "\n",
       "    .dataframe tbody tr th {\n",
       "        vertical-align: top;\n",
       "    }\n",
       "\n",
       "    .dataframe thead th {\n",
       "        text-align: right;\n",
       "    }\n",
       "</style>\n",
       "<table border=\"1\" class=\"dataframe\">\n",
       "  <thead>\n",
       "    <tr style=\"text-align: right;\">\n",
       "      <th></th>\n",
       "      <th>count</th>\n",
       "      <th>mean</th>\n",
       "      <th>std</th>\n",
       "      <th>min</th>\n",
       "      <th>25%</th>\n",
       "      <th>50%</th>\n",
       "      <th>75%</th>\n",
       "      <th>max</th>\n",
       "    </tr>\n",
       "  </thead>\n",
       "  <tbody>\n",
       "    <tr>\n",
       "      <th>age</th>\n",
       "      <td>373.0</td>\n",
       "      <td>37.431635</td>\n",
       "      <td>7.069073</td>\n",
       "      <td>23.0</td>\n",
       "      <td>31.0</td>\n",
       "      <td>36.0</td>\n",
       "      <td>44.0</td>\n",
       "      <td>53.0</td>\n",
       "    </tr>\n",
       "    <tr>\n",
       "      <th>years_of_experience</th>\n",
       "      <td>373.0</td>\n",
       "      <td>10.030831</td>\n",
       "      <td>6.557007</td>\n",
       "      <td>0.0</td>\n",
       "      <td>4.0</td>\n",
       "      <td>9.0</td>\n",
       "      <td>15.0</td>\n",
       "      <td>25.0</td>\n",
       "    </tr>\n",
       "    <tr>\n",
       "      <th>salary</th>\n",
       "      <td>373.0</td>\n",
       "      <td>100577.345845</td>\n",
       "      <td>48240.013482</td>\n",
       "      <td>350.0</td>\n",
       "      <td>55000.0</td>\n",
       "      <td>95000.0</td>\n",
       "      <td>140000.0</td>\n",
       "      <td>250000.0</td>\n",
       "    </tr>\n",
       "  </tbody>\n",
       "</table>\n",
       "</div>"
      ],
      "text/plain": [
       "                     count           mean           std    min      25%  \\\n",
       "age                  373.0      37.431635      7.069073   23.0     31.0   \n",
       "years_of_experience  373.0      10.030831      6.557007    0.0      4.0   \n",
       "salary               373.0  100577.345845  48240.013482  350.0  55000.0   \n",
       "\n",
       "                         50%       75%       max  \n",
       "age                     36.0      44.0      53.0  \n",
       "years_of_experience      9.0      15.0      25.0  \n",
       "salary               95000.0  140000.0  250000.0  "
      ]
     },
     "execution_count": 48,
     "metadata": {},
     "output_type": "execute_result"
    }
   ],
   "source": [
    "# Estatística básica das variáveis numéricas\n",
    "salary.describe().T"
   ]
  },
  {
   "cell_type": "code",
   "execution_count": 49,
   "metadata": {},
   "outputs": [
    {
     "data": {
      "image/png": "[encoded data removed]",
      "text/plain": [
       "<Figure size 1000x500 with 1 Axes>"
      ]
     },
     "metadata": {},
     "output_type": "display_data"
    }
   ],
   "source": [
    "# Verificando se há presença de outliers\n",
    "salary[['age', 'years_of_experience','salary']].plot.box(figsize=(10,5))\n",
    "plt.show()"
   ]
  },
  {
   "cell_type": "code",
   "execution_count": 57,
   "metadata": {},
   "outputs": [
    {
     "data": {
      "image/png": "[encoded data removed]",
      "text/plain": [
       "<Figure size 1000x500 with 1 Axes>"
      ]
     },
     "metadata": {},
     "output_type": "display_data"
    }
   ],
   "source": [
    "# Histograma de salário\n",
    "plt.figure(figsize=(10, 5))\n",
    "\n",
    "sns.histplot(salary['salary'], color = '#a1c9f4')\n",
    "plt.title('Distribuição Salarial', size=15)\n",
    "plt.xlabel(\"\")  \n",
    "plt.ylabel(\"\")\n",
    "plt.show()"
   ]
  },
  {
   "cell_type": "code",
   "execution_count": 51,
   "metadata": {},
   "outputs": [
    {
     "data": {
      "image/png": "[encoded data removed]",
      "text/plain": [
       "<Figure size 1000x500 with 1 Axes>"
      ]
     },
     "metadata": {},
     "output_type": "display_data"
    }
   ],
   "source": [
    "# Porcentagens de mulheres e homens\n",
    "labels = salary['gender'].value_counts().index\n",
    "values = salary['gender'].value_counts().values\n",
    "\n",
    "colors = sns.color_palette('pastel')[0:5]\n",
    "plt.figure(figsize=(10, 5))\n",
    "plt.pie(values, labels=labels, autopct='%1.2f%%', colors = colors, startangle=90)\n",
    "\n",
    "plt.title('Distribuição por Gênero')\n",
    "plt.show()"
   ]
  },
  {
   "cell_type": "code",
   "execution_count": 56,
   "metadata": {},
   "outputs": [
    {
     "data": {
      "image/png": "[encoded data removed]",
      "text/plain": [
       "<Figure size 1000x500 with 1 Axes>"
      ]
     },
     "metadata": {},
     "output_type": "display_data"
    }
   ],
   "source": [
    "# Nível de educação\n",
    "plt.figure(figsize=(10, 5))\n",
    "sns.countplot(salary.education_level, color = '#a1c9f4')\n",
    "\n",
    "plt.title('Nível de Educação')\n",
    "plt.xlabel(\"\")  \n",
    "plt.ylabel(\"\")\n",
    "plt.show()"
   ]
  },
  {
   "cell_type": "code",
   "execution_count": 58,
   "metadata": {},
   "outputs": [
    {
     "name": "stdout",
     "output_type": "stream",
     "text": [
      "Quantidade de cargos distintos: 174\n"
     ]
    }
   ],
   "source": [
    "print(f\"Quantidade de cargos distintos: {salary.job_title.nunique()}\")"
   ]
  },
  {
   "cell_type": "code",
   "execution_count": 59,
   "metadata": {},
   "outputs": [
    {
     "data": {
      "text/html": [
       "<style type=\"text/css\">\n",
       "#T_1885e_row8_col0, #T_1885e_row8_col1, #T_1885e_row8_col2, #T_1885e_row8_col3, #T_1885e_row8_col4, #T_1885e_row8_col5, #T_1885e_row9_col0, #T_1885e_row9_col1, #T_1885e_row9_col2, #T_1885e_row9_col3, #T_1885e_row9_col4, #T_1885e_row9_col5 {\n",
       "  background-color: #c0c0c0;\n",
       "}\n",
       "</style>\n",
       "<table id=\"T_1885e\">\n",
       "  <thead>\n",
       "    <tr>\n",
       "      <th class=\"blank level0\" >&nbsp;</th>\n",
       "      <th id=\"T_1885e_level0_col0\" class=\"col_heading level0 col0\" >age</th>\n",
       "      <th id=\"T_1885e_level0_col1\" class=\"col_heading level0 col1\" >gender</th>\n",
       "      <th id=\"T_1885e_level0_col2\" class=\"col_heading level0 col2\" >education_level</th>\n",
       "      <th id=\"T_1885e_level0_col3\" class=\"col_heading level0 col3\" >job_title</th>\n",
       "      <th id=\"T_1885e_level0_col4\" class=\"col_heading level0 col4\" >years_of_experience</th>\n",
       "      <th id=\"T_1885e_level0_col5\" class=\"col_heading level0 col5\" >salary</th>\n",
       "    </tr>\n",
       "  </thead>\n",
       "  <tbody>\n",
       "    <tr>\n",
       "      <th id=\"T_1885e_level0_row0\" class=\"row_heading level0 row0\" >30</th>\n",
       "      <td id=\"T_1885e_row0_col0\" class=\"data row0 col0\" >50.000000</td>\n",
       "      <td id=\"T_1885e_row0_col1\" class=\"data row0 col1\" >Male</td>\n",
       "      <td id=\"T_1885e_row0_col2\" class=\"data row0 col2\" >Bachelor's</td>\n",
       "      <td id=\"T_1885e_row0_col3\" class=\"data row0 col3\" >CEO</td>\n",
       "      <td id=\"T_1885e_row0_col4\" class=\"data row0 col4\" >25.000000</td>\n",
       "      <td id=\"T_1885e_row0_col5\" class=\"data row0 col5\" >250000.000000</td>\n",
       "    </tr>\n",
       "    <tr>\n",
       "      <th id=\"T_1885e_level0_row1\" class=\"row_heading level0 row1\" >83</th>\n",
       "      <td id=\"T_1885e_row1_col0\" class=\"data row1 col0\" >52.000000</td>\n",
       "      <td id=\"T_1885e_row1_col1\" class=\"data row1 col1\" >Male</td>\n",
       "      <td id=\"T_1885e_row1_col2\" class=\"data row1 col2\" >PhD</td>\n",
       "      <td id=\"T_1885e_row1_col3\" class=\"data row1 col3\" >Chief Technology Officer</td>\n",
       "      <td id=\"T_1885e_row1_col4\" class=\"data row1 col4\" >24.000000</td>\n",
       "      <td id=\"T_1885e_row1_col5\" class=\"data row1 col5\" >250000.000000</td>\n",
       "    </tr>\n",
       "    <tr>\n",
       "      <th id=\"T_1885e_level0_row2\" class=\"row_heading level0 row2\" >105</th>\n",
       "      <td id=\"T_1885e_row2_col0\" class=\"data row2 col0\" >44.000000</td>\n",
       "      <td id=\"T_1885e_row2_col1\" class=\"data row2 col1\" >Male</td>\n",
       "      <td id=\"T_1885e_row2_col2\" class=\"data row2 col2\" >PhD</td>\n",
       "      <td id=\"T_1885e_row2_col3\" class=\"data row2 col3\" >Chief Data Officer</td>\n",
       "      <td id=\"T_1885e_row2_col4\" class=\"data row2 col4\" >16.000000</td>\n",
       "      <td id=\"T_1885e_row2_col5\" class=\"data row2 col5\" >220000.000000</td>\n",
       "    </tr>\n",
       "    <tr>\n",
       "      <th id=\"T_1885e_level0_row3\" class=\"row_heading level0 row3\" >4</th>\n",
       "      <td id=\"T_1885e_row3_col0\" class=\"data row3 col0\" >52.000000</td>\n",
       "      <td id=\"T_1885e_row3_col1\" class=\"data row3 col1\" >Male</td>\n",
       "      <td id=\"T_1885e_row3_col2\" class=\"data row3 col2\" >Master's</td>\n",
       "      <td id=\"T_1885e_row3_col3\" class=\"data row3 col3\" >Director</td>\n",
       "      <td id=\"T_1885e_row3_col4\" class=\"data row3 col4\" >20.000000</td>\n",
       "      <td id=\"T_1885e_row3_col5\" class=\"data row3 col5\" >200000.000000</td>\n",
       "    </tr>\n",
       "    <tr>\n",
       "      <th id=\"T_1885e_level0_row4\" class=\"row_heading level0 row4\" >53</th>\n",
       "      <td id=\"T_1885e_row4_col0\" class=\"data row4 col0\" >47.000000</td>\n",
       "      <td id=\"T_1885e_row4_col1\" class=\"data row4 col1\" >Male</td>\n",
       "      <td id=\"T_1885e_row4_col2\" class=\"data row4 col2\" >Master's</td>\n",
       "      <td id=\"T_1885e_row4_col3\" class=\"data row4 col3\" >VP of Finance</td>\n",
       "      <td id=\"T_1885e_row4_col4\" class=\"data row4 col4\" >19.000000</td>\n",
       "      <td id=\"T_1885e_row4_col5\" class=\"data row4 col5\" >200000.000000</td>\n",
       "    </tr>\n",
       "    <tr>\n",
       "      <th id=\"T_1885e_level0_row5\" class=\"row_heading level0 row5\" >21</th>\n",
       "      <td id=\"T_1885e_row5_col0\" class=\"data row5 col0\" >47.000000</td>\n",
       "      <td id=\"T_1885e_row5_col1\" class=\"data row5 col1\" >Male</td>\n",
       "      <td id=\"T_1885e_row5_col2\" class=\"data row5 col2\" >Master's</td>\n",
       "      <td id=\"T_1885e_row5_col3\" class=\"data row5 col3\" >VP of Operations</td>\n",
       "      <td id=\"T_1885e_row5_col4\" class=\"data row5 col4\" >19.000000</td>\n",
       "      <td id=\"T_1885e_row5_col5\" class=\"data row5 col5\" >190000.000000</td>\n",
       "    </tr>\n",
       "    <tr>\n",
       "      <th id=\"T_1885e_level0_row6\" class=\"row_heading level0 row6\" >41</th>\n",
       "      <td id=\"T_1885e_row6_col0\" class=\"data row6 col0\" >48.000000</td>\n",
       "      <td id=\"T_1885e_row6_col1\" class=\"data row6 col1\" >Male</td>\n",
       "      <td id=\"T_1885e_row6_col2\" class=\"data row6 col2\" >Master's</td>\n",
       "      <td id=\"T_1885e_row6_col3\" class=\"data row6 col3\" >Operations Director</td>\n",
       "      <td id=\"T_1885e_row6_col4\" class=\"data row6 col4\" >18.000000</td>\n",
       "      <td id=\"T_1885e_row6_col5\" class=\"data row6 col5\" >190000.000000</td>\n",
       "    </tr>\n",
       "    <tr>\n",
       "      <th id=\"T_1885e_level0_row7\" class=\"row_heading level0 row7\" >72</th>\n",
       "      <td id=\"T_1885e_row7_col0\" class=\"data row7 col0\" >45.000000</td>\n",
       "      <td id=\"T_1885e_row7_col1\" class=\"data row7 col1\" >Male</td>\n",
       "      <td id=\"T_1885e_row7_col2\" class=\"data row7 col2\" >PhD</td>\n",
       "      <td id=\"T_1885e_row7_col3\" class=\"data row7 col3\" >Research Director</td>\n",
       "      <td id=\"T_1885e_row7_col4\" class=\"data row7 col4\" >16.000000</td>\n",
       "      <td id=\"T_1885e_row7_col5\" class=\"data row7 col5\" >190000.000000</td>\n",
       "    </tr>\n",
       "    <tr>\n",
       "      <th id=\"T_1885e_level0_row8\" class=\"row_heading level0 row8\" >229</th>\n",
       "      <td id=\"T_1885e_row8_col0\" class=\"data row8 col0\" >51.000000</td>\n",
       "      <td id=\"T_1885e_row8_col1\" class=\"data row8 col1\" >Female</td>\n",
       "      <td id=\"T_1885e_row8_col2\" class=\"data row8 col2\" >Master's</td>\n",
       "      <td id=\"T_1885e_row8_col3\" class=\"data row8 col3\" >Director of Human Resources</td>\n",
       "      <td id=\"T_1885e_row8_col4\" class=\"data row8 col4\" >21.000000</td>\n",
       "      <td id=\"T_1885e_row8_col5\" class=\"data row8 col5\" >190000.000000</td>\n",
       "    </tr>\n",
       "    <tr>\n",
       "      <th id=\"T_1885e_level0_row9\" class=\"row_heading level0 row9\" >158</th>\n",
       "      <td id=\"T_1885e_row9_col0\" class=\"data row9 col0\" >51.000000</td>\n",
       "      <td id=\"T_1885e_row9_col1\" class=\"data row9 col1\" >Female</td>\n",
       "      <td id=\"T_1885e_row9_col2\" class=\"data row9 col2\" >PhD</td>\n",
       "      <td id=\"T_1885e_row9_col3\" class=\"data row9 col3\" >Director of Human Resources</td>\n",
       "      <td id=\"T_1885e_row9_col4\" class=\"data row9 col4\" >23.000000</td>\n",
       "      <td id=\"T_1885e_row9_col5\" class=\"data row9 col5\" >185000.000000</td>\n",
       "    </tr>\n",
       "  </tbody>\n",
       "</table>\n"
      ],
      "text/plain": [
       "<pandas.io.formats.style.Styler at 0x1b68165c520>"
      ]
     },
     "execution_count": 59,
     "metadata": {},
     "output_type": "execute_result"
    }
   ],
   "source": [
    "# Cargos com maiores salários\n",
    "salary.nlargest(10, 'salary', keep='all').style.apply(specific_row, indices=[229, 158], axis=1)"
   ]
  },
  {
   "cell_type": "code",
   "execution_count": 60,
   "metadata": {},
   "outputs": [
    {
     "data": {
      "text/html": [
       "<style type=\"text/css\">\n",
       "#T_be233_row5_col0, #T_be233_row5_col1, #T_be233_row5_col2, #T_be233_row5_col3, #T_be233_row5_col4, #T_be233_row5_col5, #T_be233_row9_col0, #T_be233_row9_col1, #T_be233_row9_col2, #T_be233_row9_col3, #T_be233_row9_col4, #T_be233_row9_col5 {\n",
       "  background-color: #c0c0c0;\n",
       "}\n",
       "</style>\n",
       "<table id=\"T_be233\">\n",
       "  <thead>\n",
       "    <tr>\n",
       "      <th class=\"blank level0\" >&nbsp;</th>\n",
       "      <th id=\"T_be233_level0_col0\" class=\"col_heading level0 col0\" >age</th>\n",
       "      <th id=\"T_be233_level0_col1\" class=\"col_heading level0 col1\" >gender</th>\n",
       "      <th id=\"T_be233_level0_col2\" class=\"col_heading level0 col2\" >education_level</th>\n",
       "      <th id=\"T_be233_level0_col3\" class=\"col_heading level0 col3\" >job_title</th>\n",
       "      <th id=\"T_be233_level0_col4\" class=\"col_heading level0 col4\" >years_of_experience</th>\n",
       "      <th id=\"T_be233_level0_col5\" class=\"col_heading level0 col5\" >salary</th>\n",
       "    </tr>\n",
       "  </thead>\n",
       "  <tbody>\n",
       "    <tr>\n",
       "      <th id=\"T_be233_level0_row0\" class=\"row_heading level0 row0\" >30</th>\n",
       "      <td id=\"T_be233_row0_col0\" class=\"data row0 col0\" >50.000000</td>\n",
       "      <td id=\"T_be233_row0_col1\" class=\"data row0 col1\" >Male</td>\n",
       "      <td id=\"T_be233_row0_col2\" class=\"data row0 col2\" >Bachelor's</td>\n",
       "      <td id=\"T_be233_row0_col3\" class=\"data row0 col3\" >CEO</td>\n",
       "      <td id=\"T_be233_row0_col4\" class=\"data row0 col4\" >25.000000</td>\n",
       "      <td id=\"T_be233_row0_col5\" class=\"data row0 col5\" >250000.000000</td>\n",
       "    </tr>\n",
       "    <tr>\n",
       "      <th id=\"T_be233_level0_row1\" class=\"row_heading level0 row1\" >83</th>\n",
       "      <td id=\"T_be233_row1_col0\" class=\"data row1 col0\" >52.000000</td>\n",
       "      <td id=\"T_be233_row1_col1\" class=\"data row1 col1\" >Male</td>\n",
       "      <td id=\"T_be233_row1_col2\" class=\"data row1 col2\" >PhD</td>\n",
       "      <td id=\"T_be233_row1_col3\" class=\"data row1 col3\" >Chief Technology Officer</td>\n",
       "      <td id=\"T_be233_row1_col4\" class=\"data row1 col4\" >24.000000</td>\n",
       "      <td id=\"T_be233_row1_col5\" class=\"data row1 col5\" >250000.000000</td>\n",
       "    </tr>\n",
       "    <tr>\n",
       "      <th id=\"T_be233_level0_row2\" class=\"row_heading level0 row2\" >105</th>\n",
       "      <td id=\"T_be233_row2_col0\" class=\"data row2 col0\" >44.000000</td>\n",
       "      <td id=\"T_be233_row2_col1\" class=\"data row2 col1\" >Male</td>\n",
       "      <td id=\"T_be233_row2_col2\" class=\"data row2 col2\" >PhD</td>\n",
       "      <td id=\"T_be233_row2_col3\" class=\"data row2 col3\" >Chief Data Officer</td>\n",
       "      <td id=\"T_be233_row2_col4\" class=\"data row2 col4\" >16.000000</td>\n",
       "      <td id=\"T_be233_row2_col5\" class=\"data row2 col5\" >220000.000000</td>\n",
       "    </tr>\n",
       "    <tr>\n",
       "      <th id=\"T_be233_level0_row3\" class=\"row_heading level0 row3\" >4</th>\n",
       "      <td id=\"T_be233_row3_col0\" class=\"data row3 col0\" >52.000000</td>\n",
       "      <td id=\"T_be233_row3_col1\" class=\"data row3 col1\" >Male</td>\n",
       "      <td id=\"T_be233_row3_col2\" class=\"data row3 col2\" >Master's</td>\n",
       "      <td id=\"T_be233_row3_col3\" class=\"data row3 col3\" >Director</td>\n",
       "      <td id=\"T_be233_row3_col4\" class=\"data row3 col4\" >20.000000</td>\n",
       "      <td id=\"T_be233_row3_col5\" class=\"data row3 col5\" >200000.000000</td>\n",
       "    </tr>\n",
       "    <tr>\n",
       "      <th id=\"T_be233_level0_row4\" class=\"row_heading level0 row4\" >53</th>\n",
       "      <td id=\"T_be233_row4_col0\" class=\"data row4 col0\" >47.000000</td>\n",
       "      <td id=\"T_be233_row4_col1\" class=\"data row4 col1\" >Male</td>\n",
       "      <td id=\"T_be233_row4_col2\" class=\"data row4 col2\" >Master's</td>\n",
       "      <td id=\"T_be233_row4_col3\" class=\"data row4 col3\" >VP of Finance</td>\n",
       "      <td id=\"T_be233_row4_col4\" class=\"data row4 col4\" >19.000000</td>\n",
       "      <td id=\"T_be233_row4_col5\" class=\"data row4 col5\" >200000.000000</td>\n",
       "    </tr>\n",
       "    <tr>\n",
       "      <th id=\"T_be233_level0_row5\" class=\"row_heading level0 row5\" >229</th>\n",
       "      <td id=\"T_be233_row5_col0\" class=\"data row5 col0\" >51.000000</td>\n",
       "      <td id=\"T_be233_row5_col1\" class=\"data row5 col1\" >Female</td>\n",
       "      <td id=\"T_be233_row5_col2\" class=\"data row5 col2\" >Master's</td>\n",
       "      <td id=\"T_be233_row5_col3\" class=\"data row5 col3\" >Director of Human Resources</td>\n",
       "      <td id=\"T_be233_row5_col4\" class=\"data row5 col4\" >21.000000</td>\n",
       "      <td id=\"T_be233_row5_col5\" class=\"data row5 col5\" >190000.000000</td>\n",
       "    </tr>\n",
       "    <tr>\n",
       "      <th id=\"T_be233_level0_row6\" class=\"row_heading level0 row6\" >21</th>\n",
       "      <td id=\"T_be233_row6_col0\" class=\"data row6 col0\" >47.000000</td>\n",
       "      <td id=\"T_be233_row6_col1\" class=\"data row6 col1\" >Male</td>\n",
       "      <td id=\"T_be233_row6_col2\" class=\"data row6 col2\" >Master's</td>\n",
       "      <td id=\"T_be233_row6_col3\" class=\"data row6 col3\" >VP of Operations</td>\n",
       "      <td id=\"T_be233_row6_col4\" class=\"data row6 col4\" >19.000000</td>\n",
       "      <td id=\"T_be233_row6_col5\" class=\"data row6 col5\" >190000.000000</td>\n",
       "    </tr>\n",
       "    <tr>\n",
       "      <th id=\"T_be233_level0_row7\" class=\"row_heading level0 row7\" >41</th>\n",
       "      <td id=\"T_be233_row7_col0\" class=\"data row7 col0\" >48.000000</td>\n",
       "      <td id=\"T_be233_row7_col1\" class=\"data row7 col1\" >Male</td>\n",
       "      <td id=\"T_be233_row7_col2\" class=\"data row7 col2\" >Master's</td>\n",
       "      <td id=\"T_be233_row7_col3\" class=\"data row7 col3\" >Operations Director</td>\n",
       "      <td id=\"T_be233_row7_col4\" class=\"data row7 col4\" >18.000000</td>\n",
       "      <td id=\"T_be233_row7_col5\" class=\"data row7 col5\" >190000.000000</td>\n",
       "    </tr>\n",
       "    <tr>\n",
       "      <th id=\"T_be233_level0_row8\" class=\"row_heading level0 row8\" >72</th>\n",
       "      <td id=\"T_be233_row8_col0\" class=\"data row8 col0\" >45.000000</td>\n",
       "      <td id=\"T_be233_row8_col1\" class=\"data row8 col1\" >Male</td>\n",
       "      <td id=\"T_be233_row8_col2\" class=\"data row8 col2\" >PhD</td>\n",
       "      <td id=\"T_be233_row8_col3\" class=\"data row8 col3\" >Research Director</td>\n",
       "      <td id=\"T_be233_row8_col4\" class=\"data row8 col4\" >16.000000</td>\n",
       "      <td id=\"T_be233_row8_col5\" class=\"data row8 col5\" >190000.000000</td>\n",
       "    </tr>\n",
       "    <tr>\n",
       "      <th id=\"T_be233_level0_row9\" class=\"row_heading level0 row9\" >158</th>\n",
       "      <td id=\"T_be233_row9_col0\" class=\"data row9 col0\" >51.000000</td>\n",
       "      <td id=\"T_be233_row9_col1\" class=\"data row9 col1\" >Female</td>\n",
       "      <td id=\"T_be233_row9_col2\" class=\"data row9 col2\" >PhD</td>\n",
       "      <td id=\"T_be233_row9_col3\" class=\"data row9 col3\" >Director of Human Resources</td>\n",
       "      <td id=\"T_be233_row9_col4\" class=\"data row9 col4\" >23.000000</td>\n",
       "      <td id=\"T_be233_row9_col5\" class=\"data row9 col5\" >185000.000000</td>\n",
       "    </tr>\n",
       "  </tbody>\n",
       "</table>\n"
      ],
      "text/plain": [
       "<pandas.io.formats.style.Styler at 0x1b6ffc82d10>"
      ]
     },
     "execution_count": 60,
     "metadata": {},
     "output_type": "execute_result"
    }
   ],
   "source": [
    "# Salários com tempo de experiência\n",
    "salary.nlargest(10, ['salary', 'years_of_experience'], keep='all').style.apply(specific_row, indices=[229, 158], axis=1)"
   ]
  },
  {
   "cell_type": "markdown",
   "metadata": {},
   "source": [
    "<h3 style='color : #cca002'> Observações: </h3>\n",
    "\n",
    "Na primeira tabela, são listados os 10 maiores salários, e ao observar os resultados, nota-se que em nono e décimo lugar, o mesmo cargo é ocupado por duas mulheres. Na segunda tabela, são listados os 10 maiores salários e o tempo de experiência. Nota-se uma reorganização na ordenação em comparação com a primeira tabela; os cargos e salários permaneceram os mesmos. Um dos cargos que era ocupado por uma mulher foi reordenado do nono lugar para o sexto lugar. Outro ponto que também chamou a atenção foi que as duas mulheres têm o mesmo cargo, mas a que possui menos tempo de experiência e formação em mestrado tem um salário maior em relação à outra. \n",
    "\n",
    "Quão correlacionadas essas informações estão com o salário?"
   ]
  },
  {
   "cell_type": "code",
   "execution_count": 82,
   "metadata": {},
   "outputs": [
    {
     "data": {
      "image/png": "[encoded data removed]",
      "text/plain": [
       "<Figure size 960.361x600 with 1 Axes>"
      ]
     },
     "metadata": {},
     "output_type": "display_data"
    }
   ],
   "source": [
    "ax = sns.relplot(\n",
    "    data=salary,    \n",
    "    x=\"age\",     \n",
    "    y=\"salary\",       \n",
    "    hue=\"gender\", \n",
    "    palette='pastel',\n",
    "    height=6,      \n",
    "    aspect=1.5    \n",
    ")\n",
    "\n",
    "# Exibir o gráfico\n",
    "ax.fig.suptitle('Realação Salário x Idade')\n",
    "plt.xlabel(\"age\")  \n",
    "plt.ylabel(\"salary\")\n",
    "ax.fig.subplots_adjust(top=.9)\n",
    "\n",
    "plt.show()"
   ]
  },
  {
   "cell_type": "code",
   "execution_count": 81,
   "metadata": {},
   "outputs": [
    {
     "data": {
      "image/png": "[encoded data removed]",
      "text/plain": [
       "<Figure size 960.361x600 with 1 Axes>"
      ]
     },
     "metadata": {},
     "output_type": "display_data"
    }
   ],
   "source": [
    "ax = sns.relplot(\n",
    "    data=salary,    \n",
    "    x=\"years_of_experience\",     \n",
    "    y=\"salary\",       \n",
    "    hue=\"gender\", \n",
    "    palette='pastel',\n",
    "    height=6,      \n",
    "    aspect=1.5    \n",
    ")\n",
    "\n",
    "# Exibir o gráfico\n",
    "ax.fig.suptitle('Relação Salário x Anos Experiências')\n",
    "plt.ylabel(\"salary\")  \n",
    "plt.xlabel(\"years experience\")\n",
    "ax.fig.subplots_adjust(top=.9)\n",
    "\n",
    "plt.show()"
   ]
  },
  {
   "cell_type": "code",
   "execution_count": 23,
   "metadata": {},
   "outputs": [
    {
     "data": {
      "text/html": [
       "<style type=\"text/css\">\n",
       "#T_8827d_row0_col0, #T_8827d_row1_col1, #T_8827d_row2_col2 {\n",
       "  background-color: #081d58;\n",
       "  color: #f1f1f1;\n",
       "}\n",
       "#T_8827d_row0_col1 {\n",
       "  background-color: #2072b1;\n",
       "  color: #f1f1f1;\n",
       "}\n",
       "#T_8827d_row0_col2, #T_8827d_row2_col0, #T_8827d_row2_col1 {\n",
       "  background-color: #ffffd9;\n",
       "  color: #000000;\n",
       "}\n",
       "#T_8827d_row1_col0 {\n",
       "  background-color: #2165ab;\n",
       "  color: #f1f1f1;\n",
       "}\n",
       "#T_8827d_row1_col2 {\n",
       "  background-color: #f0f9b8;\n",
       "  color: #000000;\n",
       "}\n",
       "</style>\n",
       "<table id=\"T_8827d\">\n",
       "  <thead>\n",
       "    <tr>\n",
       "      <th class=\"blank level0\" >&nbsp;</th>\n",
       "      <th id=\"T_8827d_level0_col0\" class=\"col_heading level0 col0\" >age</th>\n",
       "      <th id=\"T_8827d_level0_col1\" class=\"col_heading level0 col1\" >years_of_experience</th>\n",
       "      <th id=\"T_8827d_level0_col2\" class=\"col_heading level0 col2\" >salary</th>\n",
       "    </tr>\n",
       "  </thead>\n",
       "  <tbody>\n",
       "    <tr>\n",
       "      <th id=\"T_8827d_level0_row0\" class=\"row_heading level0 row0\" >age</th>\n",
       "      <td id=\"T_8827d_row0_col0\" class=\"data row0 col0\" >1.00</td>\n",
       "      <td id=\"T_8827d_row0_col1\" class=\"data row0 col1\" >0.98</td>\n",
       "      <td id=\"T_8827d_row0_col2\" class=\"data row0 col2\" >0.92</td>\n",
       "    </tr>\n",
       "    <tr>\n",
       "      <th id=\"T_8827d_level0_row1\" class=\"row_heading level0 row1\" >years_of_experience</th>\n",
       "      <td id=\"T_8827d_row1_col0\" class=\"data row1 col0\" >0.98</td>\n",
       "      <td id=\"T_8827d_row1_col1\" class=\"data row1 col1\" >1.00</td>\n",
       "      <td id=\"T_8827d_row1_col2\" class=\"data row1 col2\" >0.93</td>\n",
       "    </tr>\n",
       "    <tr>\n",
       "      <th id=\"T_8827d_level0_row2\" class=\"row_heading level0 row2\" >salary</th>\n",
       "      <td id=\"T_8827d_row2_col0\" class=\"data row2 col0\" >0.92</td>\n",
       "      <td id=\"T_8827d_row2_col1\" class=\"data row2 col1\" >0.93</td>\n",
       "      <td id=\"T_8827d_row2_col2\" class=\"data row2 col2\" >1.00</td>\n",
       "    </tr>\n",
       "  </tbody>\n",
       "</table>\n"
      ],
      "text/plain": [
       "<pandas.io.formats.style.Styler at 0x1b682131ea0>"
      ]
     },
     "execution_count": 23,
     "metadata": {},
     "output_type": "execute_result"
    }
   ],
   "source": [
    "# Correlação das variáveis numéricas\n",
    "salary.select_dtypes(exclude='object').corr().style.background_gradient(cmap='YlGnBu').format(precision=2)"
   ]
  },
  {
   "cell_type": "markdown",
   "metadata": {},
   "source": [
    "<h3 style='color : #cca002'> Observações: </h3>\n",
    "\n",
    "Observando os gráficos de dispersão e a tabela de correlação, podemos notar que a idade e os anos de experiência estão positivamente correlacionados com o salário. Isso significa que o aumento da idade e o aumento dos anos de experiência também aumentam o valor do salário."
   ]
  },
  {
   "cell_type": "markdown",
   "metadata": {},
   "source": [
    "<h1 style=\"text-align:center;\" ><a id=\"ses5\">Codificação dos Dados</a></h1>\n",
    "\n",
    "[VOLTAR](#sumario)"
   ]
  },
  {
   "cell_type": "markdown",
   "metadata": {},
   "source": [
    "No dataset, temos três colunas que são do tipo categóricas, mas não podem ser processadas diretamente por modelos de aprendizado de máquina. Para resolver isso, vamos utilizar técnicas de codificação para converter os dados categóricos em formato numérico.\n",
    "\n",
    "As colunas **gender** e **job_title** são do tipo categóricas nominais, onde a ordem ou classificação não são importantes. Por outro lado, a coluna **education_level** é do tipo categórica ordinal, onde a ordem ou classificação são relevantes.\n",
    "\n"
   ]
  },
  {
   "cell_type": "code",
   "execution_count": 66,
   "metadata": {},
   "outputs": [],
   "source": [
    "# Codificação das nominais\n",
    "encoder = LabelEncoder()\n",
    "\n",
    "salary['gender'] = encoder.fit_transform(salary['gender'])\n",
    "salary['job_title'] = encoder.fit_transform(salary['job_title'])"
   ]
  },
  {
   "cell_type": "code",
   "execution_count": 67,
   "metadata": {},
   "outputs": [],
   "source": [
    "# Codificação da ordinal\n",
    "ordinal = OrdinalEncoder(categories=[[\"Bachelor's\", \"Master's\", \"PhD\"]])\n",
    "\n",
    "salary['education_level'] = ordinal.fit_transform(salary[['education_level']])"
   ]
  },
  {
   "cell_type": "code",
   "execution_count": 68,
   "metadata": {},
   "outputs": [
    {
     "data": {
      "text/html": [
       "<style type=\"text/css\">\n",
       "#T_df437_row0_col0, #T_df437_row1_col1, #T_df437_row2_col2, #T_df437_row3_col3, #T_df437_row4_col4, #T_df437_row5_col5 {\n",
       "  background-color: #081d58;\n",
       "  color: #f1f1f1;\n",
       "}\n",
       "#T_df437_row0_col1 {\n",
       "  background-color: #fcfed3;\n",
       "  color: #000000;\n",
       "}\n",
       "#T_df437_row0_col2 {\n",
       "  background-color: #2a9ec1;\n",
       "  color: #f1f1f1;\n",
       "}\n",
       "#T_df437_row0_col3 {\n",
       "  background-color: #f0f9b8;\n",
       "  color: #000000;\n",
       "}\n",
       "#T_df437_row0_col4, #T_df437_row4_col0 {\n",
       "  background-color: #0d2161;\n",
       "  color: #f1f1f1;\n",
       "}\n",
       "#T_df437_row0_col5 {\n",
       "  background-color: #1b2c80;\n",
       "  color: #f1f1f1;\n",
       "}\n",
       "#T_df437_row1_col0, #T_df437_row1_col2, #T_df437_row1_col3, #T_df437_row1_col4, #T_df437_row1_col5, #T_df437_row2_col1 {\n",
       "  background-color: #ffffd9;\n",
       "  color: #000000;\n",
       "}\n",
       "#T_df437_row2_col0 {\n",
       "  background-color: #2ca1c2;\n",
       "  color: #f1f1f1;\n",
       "}\n",
       "#T_df437_row2_col3, #T_df437_row4_col3 {\n",
       "  background-color: #f3fabd;\n",
       "  color: #000000;\n",
       "}\n",
       "#T_df437_row2_col4 {\n",
       "  background-color: #289cc1;\n",
       "  color: #f1f1f1;\n",
       "}\n",
       "#T_df437_row2_col5 {\n",
       "  background-color: #1e88bc;\n",
       "  color: #f1f1f1;\n",
       "}\n",
       "#T_df437_row3_col0 {\n",
       "  background-color: #eaf7b1;\n",
       "  color: #000000;\n",
       "}\n",
       "#T_df437_row3_col1 {\n",
       "  background-color: #f7fcc7;\n",
       "  color: #000000;\n",
       "}\n",
       "#T_df437_row3_col2 {\n",
       "  background-color: #e9f7b1;\n",
       "  color: #000000;\n",
       "}\n",
       "#T_df437_row3_col4 {\n",
       "  background-color: #f1fabb;\n",
       "  color: #000000;\n",
       "}\n",
       "#T_df437_row3_col5 {\n",
       "  background-color: #f5fbc4;\n",
       "  color: #000000;\n",
       "}\n",
       "#T_df437_row4_col1 {\n",
       "  background-color: #f9fdcb;\n",
       "  color: #000000;\n",
       "}\n",
       "#T_df437_row4_col2 {\n",
       "  background-color: #2296c1;\n",
       "  color: #f1f1f1;\n",
       "}\n",
       "#T_df437_row4_col5, #T_df437_row5_col0 {\n",
       "  background-color: #192b7c;\n",
       "  color: #f1f1f1;\n",
       "}\n",
       "#T_df437_row5_col1 {\n",
       "  background-color: #eff9b6;\n",
       "  color: #000000;\n",
       "}\n",
       "#T_df437_row5_col2 {\n",
       "  background-color: #1f78b4;\n",
       "  color: #f1f1f1;\n",
       "}\n",
       "#T_df437_row5_col3 {\n",
       "  background-color: #edf8b2;\n",
       "  color: #000000;\n",
       "}\n",
       "#T_df437_row5_col4 {\n",
       "  background-color: #172978;\n",
       "  color: #f1f1f1;\n",
       "}\n",
       "</style>\n",
       "<table id=\"T_df437\">\n",
       "  <thead>\n",
       "    <tr>\n",
       "      <th class=\"blank level0\" >&nbsp;</th>\n",
       "      <th id=\"T_df437_level0_col0\" class=\"col_heading level0 col0\" >age</th>\n",
       "      <th id=\"T_df437_level0_col1\" class=\"col_heading level0 col1\" >gender</th>\n",
       "      <th id=\"T_df437_level0_col2\" class=\"col_heading level0 col2\" >education_level</th>\n",
       "      <th id=\"T_df437_level0_col3\" class=\"col_heading level0 col3\" >job_title</th>\n",
       "      <th id=\"T_df437_level0_col4\" class=\"col_heading level0 col4\" >years_of_experience</th>\n",
       "      <th id=\"T_df437_level0_col5\" class=\"col_heading level0 col5\" >salary</th>\n",
       "    </tr>\n",
       "  </thead>\n",
       "  <tbody>\n",
       "    <tr>\n",
       "      <th id=\"T_df437_level0_row0\" class=\"row_heading level0 row0\" >age</th>\n",
       "      <td id=\"T_df437_row0_col0\" class=\"data row0 col0\" >1.00</td>\n",
       "      <td id=\"T_df437_row0_col1\" class=\"data row0 col1\" >-0.02</td>\n",
       "      <td id=\"T_df437_row0_col2\" class=\"data row0 col2\" >0.56</td>\n",
       "      <td id=\"T_df437_row0_col3\" class=\"data row0 col3\" >0.12</td>\n",
       "      <td id=\"T_df437_row0_col4\" class=\"data row0 col4\" >0.98</td>\n",
       "      <td id=\"T_df437_row0_col5\" class=\"data row0 col5\" >0.92</td>\n",
       "    </tr>\n",
       "    <tr>\n",
       "      <th id=\"T_df437_level0_row1\" class=\"row_heading level0 row1\" >gender</th>\n",
       "      <td id=\"T_df437_row1_col0\" class=\"data row1 col0\" >-0.02</td>\n",
       "      <td id=\"T_df437_row1_col1\" class=\"data row1 col1\" >1.00</td>\n",
       "      <td id=\"T_df437_row1_col2\" class=\"data row1 col2\" >-0.04</td>\n",
       "      <td id=\"T_df437_row1_col3\" class=\"data row1 col3\" >0.01</td>\n",
       "      <td id=\"T_df437_row1_col4\" class=\"data row1 col4\" >0.00</td>\n",
       "      <td id=\"T_df437_row1_col5\" class=\"data row1 col5\" >0.07</td>\n",
       "    </tr>\n",
       "    <tr>\n",
       "      <th id=\"T_df437_level0_row2\" class=\"row_heading level0 row2\" >education_level</th>\n",
       "      <td id=\"T_df437_row2_col0\" class=\"data row2 col0\" >0.56</td>\n",
       "      <td id=\"T_df437_row2_col1\" class=\"data row2 col1\" >-0.04</td>\n",
       "      <td id=\"T_df437_row2_col2\" class=\"data row2 col2\" >1.00</td>\n",
       "      <td id=\"T_df437_row2_col3\" class=\"data row2 col3\" >0.10</td>\n",
       "      <td id=\"T_df437_row2_col4\" class=\"data row2 col4\" >0.59</td>\n",
       "      <td id=\"T_df437_row2_col5\" class=\"data row2 col5\" >0.67</td>\n",
       "    </tr>\n",
       "    <tr>\n",
       "      <th id=\"T_df437_level0_row3\" class=\"row_heading level0 row3\" >job_title</th>\n",
       "      <td id=\"T_df437_row3_col0\" class=\"data row3 col0\" >0.12</td>\n",
       "      <td id=\"T_df437_row3_col1\" class=\"data row3 col1\" >0.01</td>\n",
       "      <td id=\"T_df437_row3_col2\" class=\"data row3 col2\" >0.10</td>\n",
       "      <td id=\"T_df437_row3_col3\" class=\"data row3 col3\" >1.00</td>\n",
       "      <td id=\"T_df437_row3_col4\" class=\"data row3 col4\" >0.10</td>\n",
       "      <td id=\"T_df437_row3_col5\" class=\"data row3 col5\" >0.14</td>\n",
       "    </tr>\n",
       "    <tr>\n",
       "      <th id=\"T_df437_level0_row4\" class=\"row_heading level0 row4\" >years_of_experience</th>\n",
       "      <td id=\"T_df437_row4_col0\" class=\"data row4 col0\" >0.98</td>\n",
       "      <td id=\"T_df437_row4_col1\" class=\"data row4 col1\" >0.00</td>\n",
       "      <td id=\"T_df437_row4_col2\" class=\"data row4 col2\" >0.59</td>\n",
       "      <td id=\"T_df437_row4_col3\" class=\"data row4 col3\" >0.10</td>\n",
       "      <td id=\"T_df437_row4_col4\" class=\"data row4 col4\" >1.00</td>\n",
       "      <td id=\"T_df437_row4_col5\" class=\"data row4 col5\" >0.93</td>\n",
       "    </tr>\n",
       "    <tr>\n",
       "      <th id=\"T_df437_level0_row5\" class=\"row_heading level0 row5\" >salary</th>\n",
       "      <td id=\"T_df437_row5_col0\" class=\"data row5 col0\" >0.92</td>\n",
       "      <td id=\"T_df437_row5_col1\" class=\"data row5 col1\" >0.07</td>\n",
       "      <td id=\"T_df437_row5_col2\" class=\"data row5 col2\" >0.67</td>\n",
       "      <td id=\"T_df437_row5_col3\" class=\"data row5 col3\" >0.14</td>\n",
       "      <td id=\"T_df437_row5_col4\" class=\"data row5 col4\" >0.93</td>\n",
       "      <td id=\"T_df437_row5_col5\" class=\"data row5 col5\" >1.00</td>\n",
       "    </tr>\n",
       "  </tbody>\n",
       "</table>\n"
      ],
      "text/plain": [
       "<pandas.io.formats.style.Styler at 0x1b681a870d0>"
      ]
     },
     "execution_count": 68,
     "metadata": {},
     "output_type": "execute_result"
    }
   ],
   "source": [
    "salary.select_dtypes(exclude='object').corr().style.background_gradient(cmap='YlGnBu').format(precision=2)"
   ]
  },
  {
   "cell_type": "markdown",
   "metadata": {},
   "source": [
    "<h3 style='color : #cca002'> Observações: </h3>\n",
    "\n",
    "Após a conversão das variáveis que eram categóricas em numéricas, a tabela de correlação foi refeita para analisar se essas variáveis apresentavam alguma correlação com o salário. Nota-se que o nível de educação apresenta uma correlação positiva com o salário, já o gênero e o cargo não apresentam tanto impacto no salário."
   ]
  },
  {
   "cell_type": "markdown",
   "metadata": {},
   "source": [
    "<h1 style=\"text-align:center;\" ><a id=\"ses6\">Regressão Linear Simples</a></h1>\n",
    "\n",
    "[VOLTAR](#sumario)\n",
    "\n",
    "**Y = a + bX + ε**\n",
    "\n",
    "Onde Y é a variável dependente, X é a variável independente, a é o coeficiente linear (intercepto), b é o coeficiente angular (inclinação) e ε é o erro aleatório.\n",
    "\n",
    "**Y** -> *salary*\n",
    "\n",
    "**X** -> *years_of_experience*"
   ]
  },
  {
   "cell_type": "code",
   "execution_count": 69,
   "metadata": {},
   "outputs": [],
   "source": [
    "# Definindo a váriável dependente\n",
    "y = salary['salary']"
   ]
  },
  {
   "cell_type": "code",
   "execution_count": 70,
   "metadata": {},
   "outputs": [],
   "source": [
    "# Definindo a váriável independente\n",
    "X = salary['years_of_experience']"
   ]
  },
  {
   "cell_type": "code",
   "execution_count": 71,
   "metadata": {},
   "outputs": [],
   "source": [
    "# O Statsmodels requer a adição de uma constante à variável independente\n",
    "X = sm.add_constant(X)"
   ]
  },
  {
   "cell_type": "code",
   "execution_count": 72,
   "metadata": {},
   "outputs": [],
   "source": [
    "# Criando o modelo\n",
    "model_simples = sm.OLS(y, X)"
   ]
  },
  {
   "cell_type": "code",
   "execution_count": 73,
   "metadata": {},
   "outputs": [],
   "source": [
    "# Treinando o modelo\n",
    "results = model_simples.fit()"
   ]
  },
  {
   "cell_type": "code",
   "execution_count": 74,
   "metadata": {},
   "outputs": [
    {
     "data": {
      "text/html": [
       "<table class=\"simpletable\">\n",
       "<caption>OLS Regression Results</caption>\n",
       "<tr>\n",
       "  <th>Dep. Variable:</th>         <td>salary</td>      <th>  R-squared:         </th> <td>   0.866</td> \n",
       "</tr>\n",
       "<tr>\n",
       "  <th>Model:</th>                   <td>OLS</td>       <th>  Adj. R-squared:    </th> <td>   0.865</td> \n",
       "</tr>\n",
       "<tr>\n",
       "  <th>Method:</th>             <td>Least Squares</td>  <th>  F-statistic:       </th> <td>   2388.</td> \n",
       "</tr>\n",
       "<tr>\n",
       "  <th>Date:</th>             <td>Thu, 02 Nov 2023</td> <th>  Prob (F-statistic):</th> <td>1.02e-163</td>\n",
       "</tr>\n",
       "<tr>\n",
       "  <th>Time:</th>                 <td>14:10:03</td>     <th>  Log-Likelihood:    </th> <td> -4177.0</td> \n",
       "</tr>\n",
       "<tr>\n",
       "  <th>No. Observations:</th>      <td>   373</td>      <th>  AIC:               </th> <td>   8358.</td> \n",
       "</tr>\n",
       "<tr>\n",
       "  <th>Df Residuals:</th>          <td>   371</td>      <th>  BIC:               </th> <td>   8366.</td> \n",
       "</tr>\n",
       "<tr>\n",
       "  <th>Df Model:</th>              <td>     1</td>      <th>                     </th>     <td> </td>    \n",
       "</tr>\n",
       "<tr>\n",
       "  <th>Covariance Type:</th>      <td>nonrobust</td>    <th>                     </th>     <td> </td>    \n",
       "</tr>\n",
       "</table>\n",
       "<table class=\"simpletable\">\n",
       "<tr>\n",
       "           <td></td>              <th>coef</th>     <th>std err</th>      <th>t</th>      <th>P>|t|</th>  <th>[0.025</th>    <th>0.975]</th>  \n",
       "</tr>\n",
       "<tr>\n",
       "  <th>const</th>               <td> 3.192e+04</td> <td> 1677.842</td> <td>   19.025</td> <td> 0.000</td> <td> 2.86e+04</td> <td> 3.52e+04</td>\n",
       "</tr>\n",
       "<tr>\n",
       "  <th>years_of_experience</th> <td> 6844.5105</td> <td>  140.065</td> <td>   48.867</td> <td> 0.000</td> <td> 6569.089</td> <td> 7119.932</td>\n",
       "</tr>\n",
       "</table>\n",
       "<table class=\"simpletable\">\n",
       "<tr>\n",
       "  <th>Omnibus:</th>       <td>42.211</td> <th>  Durbin-Watson:     </th> <td>   1.862</td>\n",
       "</tr>\n",
       "<tr>\n",
       "  <th>Prob(Omnibus):</th> <td> 0.000</td> <th>  Jarque-Bera (JB):  </th> <td> 119.478</td>\n",
       "</tr>\n",
       "<tr>\n",
       "  <th>Skew:</th>          <td>-0.511</td> <th>  Prob(JB):          </th> <td>1.14e-26</td>\n",
       "</tr>\n",
       "<tr>\n",
       "  <th>Kurtosis:</th>      <td> 5.577</td> <th>  Cond. No.          </th> <td>    22.0</td>\n",
       "</tr>\n",
       "</table><br/><br/>Notes:<br/>[1] Standard Errors assume that the covariance matrix of the errors is correctly specified."
      ],
      "text/latex": [
       "\\begin{center}\n",
       "\\begin{tabular}{lclc}\n",
       "\\toprule\n",
       "\\textbf{Dep. Variable:}        &      salary      & \\textbf{  R-squared:         } &     0.866   \\\\\n",
       "\\textbf{Model:}                &       OLS        & \\textbf{  Adj. R-squared:    } &     0.865   \\\\\n",
       "\\textbf{Method:}               &  Least Squares   & \\textbf{  F-statistic:       } &     2388.   \\\\\n",
       "\\textbf{Date:}                 & Thu, 02 Nov 2023 & \\textbf{  Prob (F-statistic):} & 1.02e-163   \\\\\n",
       "\\textbf{Time:}                 &     14:10:03     & \\textbf{  Log-Likelihood:    } &   -4177.0   \\\\\n",
       "\\textbf{No. Observations:}     &         373      & \\textbf{  AIC:               } &     8358.   \\\\\n",
       "\\textbf{Df Residuals:}         &         371      & \\textbf{  BIC:               } &     8366.   \\\\\n",
       "\\textbf{Df Model:}             &           1      & \\textbf{                     } &             \\\\\n",
       "\\textbf{Covariance Type:}      &    nonrobust     & \\textbf{                     } &             \\\\\n",
       "\\bottomrule\n",
       "\\end{tabular}\n",
       "\\begin{tabular}{lcccccc}\n",
       "                               & \\textbf{coef} & \\textbf{std err} & \\textbf{t} & \\textbf{P$> |$t$|$} & \\textbf{[0.025} & \\textbf{0.975]}  \\\\\n",
       "\\midrule\n",
       "\\textbf{const}                 &    3.192e+04  &     1677.842     &    19.025  &         0.000        &     2.86e+04    &     3.52e+04     \\\\\n",
       "\\textbf{years\\_of\\_experience} &    6844.5105  &      140.065     &    48.867  &         0.000        &     6569.089    &     7119.932     \\\\\n",
       "\\bottomrule\n",
       "\\end{tabular}\n",
       "\\begin{tabular}{lclc}\n",
       "\\textbf{Omnibus:}       & 42.211 & \\textbf{  Durbin-Watson:     } &    1.862  \\\\\n",
       "\\textbf{Prob(Omnibus):} &  0.000 & \\textbf{  Jarque-Bera (JB):  } &  119.478  \\\\\n",
       "\\textbf{Skew:}          & -0.511 & \\textbf{  Prob(JB):          } & 1.14e-26  \\\\\n",
       "\\textbf{Kurtosis:}      &  5.577 & \\textbf{  Cond. No.          } &     22.0  \\\\\n",
       "\\bottomrule\n",
       "\\end{tabular}\n",
       "%\\caption{OLS Regression Results}\n",
       "\\end{center}\n",
       "\n",
       "Notes: \\newline\n",
       " [1] Standard Errors assume that the covariance matrix of the errors is correctly specified."
      ],
      "text/plain": [
       "<class 'statsmodels.iolib.summary.Summary'>\n",
       "\"\"\"\n",
       "                            OLS Regression Results                            \n",
       "==============================================================================\n",
       "Dep. Variable:                 salary   R-squared:                       0.866\n",
       "Model:                            OLS   Adj. R-squared:                  0.865\n",
       "Method:                 Least Squares   F-statistic:                     2388.\n",
       "Date:                Thu, 02 Nov 2023   Prob (F-statistic):          1.02e-163\n",
       "Time:                        14:10:03   Log-Likelihood:                -4177.0\n",
       "No. Observations:                 373   AIC:                             8358.\n",
       "Df Residuals:                     371   BIC:                             8366.\n",
       "Df Model:                           1                                         \n",
       "Covariance Type:            nonrobust                                         \n",
       "=======================================================================================\n",
       "                          coef    std err          t      P>|t|      [0.025      0.975]\n",
       "---------------------------------------------------------------------------------------\n",
       "const                3.192e+04   1677.842     19.025      0.000    2.86e+04    3.52e+04\n",
       "years_of_experience  6844.5105    140.065     48.867      0.000    6569.089    7119.932\n",
       "==============================================================================\n",
       "Omnibus:                       42.211   Durbin-Watson:                   1.862\n",
       "Prob(Omnibus):                  0.000   Jarque-Bera (JB):              119.478\n",
       "Skew:                          -0.511   Prob(JB):                     1.14e-26\n",
       "Kurtosis:                       5.577   Cond. No.                         22.0\n",
       "==============================================================================\n",
       "\n",
       "Notes:\n",
       "[1] Standard Errors assume that the covariance matrix of the errors is correctly specified.\n",
       "\"\"\""
      ]
     },
     "execution_count": 74,
     "metadata": {},
     "output_type": "execute_result"
    }
   ],
   "source": [
    "# Resumo estatístico do modelo\n",
    "results.summary()"
   ]
  },
  {
   "cell_type": "code",
   "execution_count": 84,
   "metadata": {},
   "outputs": [
    {
     "data": {
      "image/png": "[encoded data removed]",
      "text/plain": [
       "<Figure size 1200x600 with 1 Axes>"
      ]
     },
     "metadata": {},
     "output_type": "display_data"
    }
   ],
   "source": [
    "# Visualização das predições\n",
    "plt.figure(figsize = (12, 6))\n",
    "\n",
    "plt.xlabel(\"years experience\")\n",
    "plt.ylabel(\"salary\")\n",
    "plt.plot(X[\"years_of_experience\"], y, \"o\", label = \"Dados Reais\", color = '#a1c9f4')\n",
    "plt.plot(X[\"years_of_experience\"], results.fittedvalues, \"r-\", label = \"Linha de Regressão (Previsões do Modelo)\")\n",
    "plt.legend(loc = \"best\")\n",
    "plt.show()"
   ]
  },
  {
   "cell_type": "markdown",
   "metadata": {},
   "source": [
    "<h3 style='color : #cca002'> Entendendo os resultados: </h3>\n",
    "\n",
    "Claramente existe uma relação forte entre os anos de experiência e o valor do salário. O valor de R² é 86%, o que é considerado bom. Isso indica que a variável ano de experiência(years_of_experience) é bastante eficaz na explicação da variação no valor do salário.\n",
    "\n",
    "O coeficiente de *6844.5105* para a variável ano de experiência significa que, em média, o salário tende a aumentar em *6844.5105* dólares para cada ano adicional de experiência. \n",
    "\n",
    "Vamos adicionar mais variáveis de entrada ao modelo, a fim de investigar se outros fatores influenciam o valor do salário. Dessa forma, o modelo de regressão linear simples se tornará um modelo de regressão múltipla."
   ]
  },
  {
   "cell_type": "markdown",
   "metadata": {},
   "source": [
    "<h1 style=\"text-align:center;\" ><a id=\"ses7\">Regressão Linear Múltipla</a></h1>\n",
    "\n",
    "[VOLTAR](#sumario)\n",
    "\n",
    "**Y = a + b1X1 + b2X2 + ... + bnXn + ε**\n",
    "\n",
    "Onde Y é a variável dependente, X1, X2, ..., Xn são as variáveis independentes, a é o coeficiente linear (intercepto), b1, b2, ..., bn são os coeficientes angulares (inclinações) e ε é o erro aleatório.\n",
    "\n",
    "**Y** -> *salary*\n",
    "\n",
    "**X** -> *age, gender, education_level, job_title, years_of_experience,salary*"
   ]
  },
  {
   "cell_type": "code",
   "execution_count": 34,
   "metadata": {},
   "outputs": [],
   "source": [
    "# Definindo as váriáveis independentes\n",
    "X_train = salary[['age', 'gender', 'education_level', 'job_title', 'years_of_experience']]"
   ]
  },
  {
   "cell_type": "code",
   "execution_count": 35,
   "metadata": {},
   "outputs": [],
   "source": [
    "# Adição de uma constante às variáveis independentes\n",
    "X_train = sm.add_constant(X_train)"
   ]
  },
  {
   "cell_type": "code",
   "execution_count": 36,
   "metadata": {
    "scrolled": true
   },
   "outputs": [],
   "source": [
    "# Criando o modelo\n",
    "model_multiple = sm.OLS(y, X_train)"
   ]
  },
  {
   "cell_type": "code",
   "execution_count": 37,
   "metadata": {},
   "outputs": [],
   "source": [
    "# Treinando o modelo\n",
    "results_multiple = sm.OLS(y, X_train).fit()"
   ]
  },
  {
   "cell_type": "code",
   "execution_count": 85,
   "metadata": {},
   "outputs": [
    {
     "data": {
      "text/html": [
       "<table class=\"simpletable\">\n",
       "<caption>OLS Regression Results</caption>\n",
       "<tr>\n",
       "  <th>Dep. Variable:</th>         <td>salary</td>      <th>  R-squared:         </th> <td>   0.901</td> \n",
       "</tr>\n",
       "<tr>\n",
       "  <th>Model:</th>                   <td>OLS</td>       <th>  Adj. R-squared:    </th> <td>   0.900</td> \n",
       "</tr>\n",
       "<tr>\n",
       "  <th>Method:</th>             <td>Least Squares</td>  <th>  F-statistic:       </th> <td>   668.5</td> \n",
       "</tr>\n",
       "<tr>\n",
       "  <th>Date:</th>             <td>Thu, 02 Nov 2023</td> <th>  Prob (F-statistic):</th> <td>7.24e-182</td>\n",
       "</tr>\n",
       "<tr>\n",
       "  <th>Time:</th>                 <td>14:15:00</td>     <th>  Log-Likelihood:    </th> <td> -4119.8</td> \n",
       "</tr>\n",
       "<tr>\n",
       "  <th>No. Observations:</th>      <td>   373</td>      <th>  AIC:               </th> <td>   8252.</td> \n",
       "</tr>\n",
       "<tr>\n",
       "  <th>Df Residuals:</th>          <td>   367</td>      <th>  BIC:               </th> <td>   8275.</td> \n",
       "</tr>\n",
       "<tr>\n",
       "  <th>Df Model:</th>              <td>     5</td>      <th>                     </th>     <td> </td>    \n",
       "</tr>\n",
       "<tr>\n",
       "  <th>Covariance Type:</th>      <td>nonrobust</td>    <th>                     </th>     <td> </td>    \n",
       "</tr>\n",
       "</table>\n",
       "<table class=\"simpletable\">\n",
       "<tr>\n",
       "           <td></td>              <th>coef</th>     <th>std err</th>      <th>t</th>      <th>P>|t|</th>  <th>[0.025</th>    <th>0.975]</th>  \n",
       "</tr>\n",
       "<tr>\n",
       "  <th>const</th>               <td>-4.428e+04</td> <td> 1.52e+04</td> <td>   -2.923</td> <td> 0.004</td> <td>-7.41e+04</td> <td>-1.45e+04</td>\n",
       "</tr>\n",
       "<tr>\n",
       "  <th>age</th>                 <td> 2652.2950</td> <td>  561.029</td> <td>    4.728</td> <td> 0.000</td> <td> 1549.061</td> <td> 3755.529</td>\n",
       "</tr>\n",
       "<tr>\n",
       "  <th>gender</th>              <td> 8322.2817</td> <td> 1598.208</td> <td>    5.207</td> <td> 0.000</td> <td> 5179.487</td> <td> 1.15e+04</td>\n",
       "</tr>\n",
       "<tr>\n",
       "  <th>education_level</th>     <td> 1.329e+04</td> <td> 1369.188</td> <td>    9.707</td> <td> 0.000</td> <td> 1.06e+04</td> <td>  1.6e+04</td>\n",
       "</tr>\n",
       "<tr>\n",
       "  <th>job_title</th>           <td>   27.3299</td> <td>   17.235</td> <td>    1.586</td> <td> 0.114</td> <td>   -6.563</td> <td>   61.223</td>\n",
       "</tr>\n",
       "<tr>\n",
       "  <th>years_of_experience</th> <td> 3156.9228</td> <td>  619.223</td> <td>    5.098</td> <td> 0.000</td> <td> 1939.253</td> <td> 4374.593</td>\n",
       "</tr>\n",
       "</table>\n",
       "<table class=\"simpletable\">\n",
       "<tr>\n",
       "  <th>Omnibus:</th>       <td>27.076</td> <th>  Durbin-Watson:     </th> <td>   1.881</td>\n",
       "</tr>\n",
       "<tr>\n",
       "  <th>Prob(Omnibus):</th> <td> 0.000</td> <th>  Jarque-Bera (JB):  </th> <td>  89.191</td>\n",
       "</tr>\n",
       "<tr>\n",
       "  <th>Skew:</th>          <td> 0.188</td> <th>  Prob(JB):          </th> <td>4.29e-20</td>\n",
       "</tr>\n",
       "<tr>\n",
       "  <th>Kurtosis:</th>      <td> 5.366</td> <th>  Cond. No.          </th> <td>2.06e+03</td>\n",
       "</tr>\n",
       "</table><br/><br/>Notes:<br/>[1] Standard Errors assume that the covariance matrix of the errors is correctly specified.<br/>[2] The condition number is large, 2.06e+03. This might indicate that there are<br/>strong multicollinearity or other numerical problems."
      ],
      "text/latex": [
       "\\begin{center}\n",
       "\\begin{tabular}{lclc}\n",
       "\\toprule\n",
       "\\textbf{Dep. Variable:}        &      salary      & \\textbf{  R-squared:         } &     0.901   \\\\\n",
       "\\textbf{Model:}                &       OLS        & \\textbf{  Adj. R-squared:    } &     0.900   \\\\\n",
       "\\textbf{Method:}               &  Least Squares   & \\textbf{  F-statistic:       } &     668.5   \\\\\n",
       "\\textbf{Date:}                 & Thu, 02 Nov 2023 & \\textbf{  Prob (F-statistic):} & 7.24e-182   \\\\\n",
       "\\textbf{Time:}                 &     14:15:00     & \\textbf{  Log-Likelihood:    } &   -4119.8   \\\\\n",
       "\\textbf{No. Observations:}     &         373      & \\textbf{  AIC:               } &     8252.   \\\\\n",
       "\\textbf{Df Residuals:}         &         367      & \\textbf{  BIC:               } &     8275.   \\\\\n",
       "\\textbf{Df Model:}             &           5      & \\textbf{                     } &             \\\\\n",
       "\\textbf{Covariance Type:}      &    nonrobust     & \\textbf{                     } &             \\\\\n",
       "\\bottomrule\n",
       "\\end{tabular}\n",
       "\\begin{tabular}{lcccccc}\n",
       "                               & \\textbf{coef} & \\textbf{std err} & \\textbf{t} & \\textbf{P$> |$t$|$} & \\textbf{[0.025} & \\textbf{0.975]}  \\\\\n",
       "\\midrule\n",
       "\\textbf{const}                 &   -4.428e+04  &     1.52e+04     &    -2.923  &         0.004        &    -7.41e+04    &    -1.45e+04     \\\\\n",
       "\\textbf{age}                   &    2652.2950  &      561.029     &     4.728  &         0.000        &     1549.061    &     3755.529     \\\\\n",
       "\\textbf{gender}                &    8322.2817  &     1598.208     &     5.207  &         0.000        &     5179.487    &     1.15e+04     \\\\\n",
       "\\textbf{education\\_level}      &    1.329e+04  &     1369.188     &     9.707  &         0.000        &     1.06e+04    &      1.6e+04     \\\\\n",
       "\\textbf{job\\_title}            &      27.3299  &       17.235     &     1.586  &         0.114        &       -6.563    &       61.223     \\\\\n",
       "\\textbf{years\\_of\\_experience} &    3156.9228  &      619.223     &     5.098  &         0.000        &     1939.253    &     4374.593     \\\\\n",
       "\\bottomrule\n",
       "\\end{tabular}\n",
       "\\begin{tabular}{lclc}\n",
       "\\textbf{Omnibus:}       & 27.076 & \\textbf{  Durbin-Watson:     } &    1.881  \\\\\n",
       "\\textbf{Prob(Omnibus):} &  0.000 & \\textbf{  Jarque-Bera (JB):  } &   89.191  \\\\\n",
       "\\textbf{Skew:}          &  0.188 & \\textbf{  Prob(JB):          } & 4.29e-20  \\\\\n",
       "\\textbf{Kurtosis:}      &  5.366 & \\textbf{  Cond. No.          } & 2.06e+03  \\\\\n",
       "\\bottomrule\n",
       "\\end{tabular}\n",
       "%\\caption{OLS Regression Results}\n",
       "\\end{center}\n",
       "\n",
       "Notes: \\newline\n",
       " [1] Standard Errors assume that the covariance matrix of the errors is correctly specified. \\newline\n",
       " [2] The condition number is large, 2.06e+03. This might indicate that there are \\newline\n",
       " strong multicollinearity or other numerical problems."
      ],
      "text/plain": [
       "<class 'statsmodels.iolib.summary.Summary'>\n",
       "\"\"\"\n",
       "                            OLS Regression Results                            \n",
       "==============================================================================\n",
       "Dep. Variable:                 salary   R-squared:                       0.901\n",
       "Model:                            OLS   Adj. R-squared:                  0.900\n",
       "Method:                 Least Squares   F-statistic:                     668.5\n",
       "Date:                Thu, 02 Nov 2023   Prob (F-statistic):          7.24e-182\n",
       "Time:                        14:15:00   Log-Likelihood:                -4119.8\n",
       "No. Observations:                 373   AIC:                             8252.\n",
       "Df Residuals:                     367   BIC:                             8275.\n",
       "Df Model:                           5                                         \n",
       "Covariance Type:            nonrobust                                         \n",
       "=======================================================================================\n",
       "                          coef    std err          t      P>|t|      [0.025      0.975]\n",
       "---------------------------------------------------------------------------------------\n",
       "const               -4.428e+04   1.52e+04     -2.923      0.004   -7.41e+04   -1.45e+04\n",
       "age                  2652.2950    561.029      4.728      0.000    1549.061    3755.529\n",
       "gender               8322.2817   1598.208      5.207      0.000    5179.487    1.15e+04\n",
       "education_level      1.329e+04   1369.188      9.707      0.000    1.06e+04     1.6e+04\n",
       "job_title              27.3299     17.235      1.586      0.114      -6.563      61.223\n",
       "years_of_experience  3156.9228    619.223      5.098      0.000    1939.253    4374.593\n",
       "==============================================================================\n",
       "Omnibus:                       27.076   Durbin-Watson:                   1.881\n",
       "Prob(Omnibus):                  0.000   Jarque-Bera (JB):               89.191\n",
       "Skew:                           0.188   Prob(JB):                     4.29e-20\n",
       "Kurtosis:                       5.366   Cond. No.                     2.06e+03\n",
       "==============================================================================\n",
       "\n",
       "Notes:\n",
       "[1] Standard Errors assume that the covariance matrix of the errors is correctly specified.\n",
       "[2] The condition number is large, 2.06e+03. This might indicate that there are\n",
       "strong multicollinearity or other numerical problems.\n",
       "\"\"\""
      ]
     },
     "execution_count": 85,
     "metadata": {},
     "output_type": "execute_result"
    }
   ],
   "source": [
    "# Resumo estatístico do modelo\n",
    "results_multiple.summary()"
   ]
  },
  {
   "cell_type": "markdown",
   "metadata": {},
   "source": [
    "<h3 style='color : #cca002'> Entendendo os resultados: </h3>\n",
    "\n",
    "O valor de R² é 90%, o que é considerado bom. Isso significa que o grau de variância na variável Y é explicado pelas variáveis X, ou seja, indica que as variáveis de entradas são eficaz na explicação da variação no valor do salário.  \n",
    "\n",
    "Observando os valores de p, podemos observar que cargo(job_title) não é uma variável X significativa, uma vez que o valor de p é maior que 0,05\n",
    " \n",
    "\n",
    "Assim, fica claro que, utilizando as 4 variáveis independentes, nosso modelo pode prever com precisão as salários. No entanto, nosso modelo tem apenas um valor de R² de 90%, o que implica que há aproximadamente 10% de fatores desconhecidos influenciando nos valores dos salários. \n",
    "\n",
    "É sempre importante deixar claro que correlação não implica causalidade e que não podemos afirmar que o valor do aluguel muda apenas devido à área dos imóveis. Para estudar causalidade devemos aplicar *Análise Causal* o que não é o foco nosso estudo."
   ]
  },
  {
   "cell_type": "markdown",
   "metadata": {},
   "source": [
    "<h2 style=\"color: #1f9d76\">FIM</h2>"
   ]
  }
 ],
 "metadata": {
  "colab": {
   "name": "AE-01-TemposEntrada_x_Saida-FIAPE.ipynb",
   "provenance": []
  },
  "kernelspec": {
   "display_name": "Python 3 (ipykernel)",
   "language": "python",
   "name": "python3"
  },
  "language_info": {
   "codemirror_mode": {
    "name": "ipython",
    "version": 3
   },
   "file_extension": ".py",
   "mimetype": "text/x-python",
   "name": "python",
   "nbconvert_exporter": "python",
   "pygments_lexer": "ipython3",
   "version": "3.10.10"
  }
 },
 "nbformat": 4,
 "nbformat_minor": 4
}
